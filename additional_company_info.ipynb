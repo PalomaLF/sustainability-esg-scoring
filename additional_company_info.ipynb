{
 "cells": [
  {
   "cell_type": "code",
   "execution_count": 1,
   "id": "f3763e0a",
   "metadata": {},
   "outputs": [],
   "source": [
    "import pandas as pd\n",
    "import numpy as np\n",
    "import re\n",
    "import requests\n",
    "from bs4 import BeautifulSoup"
   ]
  },
  {
   "cell_type": "code",
   "execution_count": 60,
   "id": "2dadde60",
   "metadata": {},
   "outputs": [],
   "source": [
    "url = 'https://stockanalysis.com/list/biggest-companies/'\n",
    "response = requests.get(url)\n",
    "html_content = response.content\n",
    "soup = BeautifulSoup(html_content, 'html.parser')\n",
    "table = soup.find_all('table') "
   ]
  },
  {
   "cell_type": "code",
   "execution_count": 61,
   "id": "4f7cd682",
   "metadata": {},
   "outputs": [],
   "source": [
    "table_data = []\n",
    "for row in table[0].find_all('tr'):\n",
    "    row_data = [cell.get_text(strip=True) for cell in row.find_all(['th', 'td'])]  # Extract text from each cell\n",
    "    table_data.append(row_data)"
   ]
  },
  {
   "cell_type": "code",
   "execution_count": 65,
   "id": "acb15b8f",
   "metadata": {},
   "outputs": [],
   "source": [
    "us_companies = (pd.DataFrame(data = table_data[1:], columns = table_data[0])).drop(columns = ['No.', 'Market Cap', '% Change', 'Revenue','Stock Price'])"
   ]
  },
  {
   "cell_type": "code",
   "execution_count": 66,
   "id": "e987431e",
   "metadata": {},
   "outputs": [
    {
     "data": {
      "text/html": [
       "<div>\n",
       "<style scoped>\n",
       "    .dataframe tbody tr th:only-of-type {\n",
       "        vertical-align: middle;\n",
       "    }\n",
       "\n",
       "    .dataframe tbody tr th {\n",
       "        vertical-align: top;\n",
       "    }\n",
       "\n",
       "    .dataframe thead th {\n",
       "        text-align: right;\n",
       "    }\n",
       "</style>\n",
       "<table border=\"1\" class=\"dataframe\">\n",
       "  <thead>\n",
       "    <tr style=\"text-align: right;\">\n",
       "      <th></th>\n",
       "      <th>Symbol</th>\n",
       "      <th>Company Name</th>\n",
       "    </tr>\n",
       "  </thead>\n",
       "  <tbody>\n",
       "    <tr>\n",
       "      <th>0</th>\n",
       "      <td>MSFT</td>\n",
       "      <td>Microsoft Corporation</td>\n",
       "    </tr>\n",
       "    <tr>\n",
       "      <th>1</th>\n",
       "      <td>AAPL</td>\n",
       "      <td>Apple Inc</td>\n",
       "    </tr>\n",
       "    <tr>\n",
       "      <th>2</th>\n",
       "      <td>NVDA</td>\n",
       "      <td>NVIDIA Corporation</td>\n",
       "    </tr>\n",
       "    <tr>\n",
       "      <th>3</th>\n",
       "      <td>AMZN</td>\n",
       "      <td>Amazon.com, Inc.</td>\n",
       "    </tr>\n",
       "    <tr>\n",
       "      <th>4</th>\n",
       "      <td>GOOGL</td>\n",
       "      <td>Alphabet Inc.</td>\n",
       "    </tr>\n",
       "    <tr>\n",
       "      <th>...</th>\n",
       "      <td>...</td>\n",
       "      <td>...</td>\n",
       "    </tr>\n",
       "    <tr>\n",
       "      <th>495</th>\n",
       "      <td>ILMN</td>\n",
       "      <td>Illumina, Inc.</td>\n",
       "    </tr>\n",
       "    <tr>\n",
       "      <th>496</th>\n",
       "      <td>INVH</td>\n",
       "      <td>Invitation Homes Inc.</td>\n",
       "    </tr>\n",
       "    <tr>\n",
       "      <th>497</th>\n",
       "      <td>TECK</td>\n",
       "      <td>Teck Resources Limited</td>\n",
       "    </tr>\n",
       "    <tr>\n",
       "      <th>498</th>\n",
       "      <td>CCL</td>\n",
       "      <td>Carnival Corporation &amp; plc</td>\n",
       "    </tr>\n",
       "    <tr>\n",
       "      <th>499</th>\n",
       "      <td>NTAP</td>\n",
       "      <td>NetApp, Inc.</td>\n",
       "    </tr>\n",
       "  </tbody>\n",
       "</table>\n",
       "<p>500 rows × 2 columns</p>\n",
       "</div>"
      ],
      "text/plain": [
       "    Symbol                Company Name\n",
       "0     MSFT       Microsoft Corporation\n",
       "1     AAPL                   Apple Inc\n",
       "2     NVDA          NVIDIA Corporation\n",
       "3     AMZN            Amazon.com, Inc.\n",
       "4    GOOGL               Alphabet Inc.\n",
       "..     ...                         ...\n",
       "495   ILMN              Illumina, Inc.\n",
       "496   INVH       Invitation Homes Inc.\n",
       "497   TECK      Teck Resources Limited\n",
       "498    CCL  Carnival Corporation & plc\n",
       "499   NTAP                NetApp, Inc.\n",
       "\n",
       "[500 rows x 2 columns]"
      ]
     },
     "execution_count": 66,
     "metadata": {},
     "output_type": "execute_result"
    }
   ],
   "source": [
    "us_companies"
   ]
  },
  {
   "cell_type": "code",
   "execution_count": 28,
   "id": "331b378a",
   "metadata": {},
   "outputs": [],
   "source": [
    "url = 'https://companiesmarketcap.com/european-union/largest-companies-in-the-eu-by-market-cap/'\n",
    "response = requests.get(url)\n",
    "html_content = response.content\n",
    "soup = BeautifulSoup(html_content, 'html.parser')\n",
    "table = soup.find_all('tbody') "
   ]
  },
  {
   "cell_type": "code",
   "execution_count": 42,
   "id": "66780384",
   "metadata": {},
   "outputs": [],
   "source": [
    "companies = []\n",
    "for c in table[0].find_all('div', class_='company-name'):\n",
    "    companies.append(c.text)"
   ]
  },
  {
   "cell_type": "code",
   "execution_count": 47,
   "id": "6272dc2e",
   "metadata": {},
   "outputs": [],
   "source": [
    "symbols = []\n",
    "for s in table[0].find_all('div', class_='company-code'):\n",
    "    symbols.append(s.text)"
   ]
  },
  {
   "cell_type": "code",
   "execution_count": 49,
   "id": "604263d9",
   "metadata": {},
   "outputs": [
    {
     "data": {
      "text/plain": [
       "(100, 100)"
      ]
     },
     "execution_count": 49,
     "metadata": {},
     "output_type": "execute_result"
    }
   ],
   "source": [
    "len(symbols), len(companies)"
   ]
  },
  {
   "cell_type": "code",
   "execution_count": 67,
   "id": "9809e796",
   "metadata": {},
   "outputs": [],
   "source": [
    "eu_companies = pd.DataFrame()\n",
    "eu_companies['Symbol'] = symbols\n",
    "eu_companies['Company Name'] = companies"
   ]
  },
  {
   "cell_type": "code",
   "execution_count": null,
   "id": "7b0a53af",
   "metadata": {},
   "outputs": [],
   "source": [
    "#extracting final ESG data for US and EU companies"
   ]
  },
  {
   "cell_type": "code",
   "execution_count": 138,
   "id": "2f5176fb",
   "metadata": {},
   "outputs": [],
   "source": [
    "from selenium import webdriver   # driver de selenium\n",
    "from selenium.webdriver.chrome.options import Options   # opciones del driver\n",
    "from selenium.webdriver.common.by import By # By es para buscar por tag, clase, id...\n",
    "from selenium.webdriver.common.keys import Keys  # para usar teclado\n",
    "from selenium.webdriver.chrome.service import Service\n",
    "import time"
   ]
  },
  {
   "cell_type": "code",
   "execution_count": 213,
   "id": "38fe51cd",
   "metadata": {},
   "outputs": [],
   "source": [
    "serv = Service('/Users/paloma/Desktop/Ironhack/proyecto_final/chromedriver')"
   ]
  },
  {
   "cell_type": "code",
   "execution_count": 214,
   "id": "e5620b0d",
   "metadata": {},
   "outputs": [],
   "source": [
    "opciones=Options()\n",
    "opciones.add_experimental_option('excludeSwitches', ['enable-automation'])\n",
    "opciones.add_experimental_option('useAutomationExtension', False)\n",
    "opciones.add_argument('user-data-dir=cookies')\n",
    "opciones.add_argument('--disk-cache-dir=/path/to/cache')"
   ]
  },
  {
   "cell_type": "code",
   "execution_count": 215,
   "id": "cbac9296",
   "metadata": {},
   "outputs": [],
   "source": [
    "driver.quit()"
   ]
  },
  {
   "cell_type": "code",
   "execution_count": 216,
   "id": "90218484",
   "metadata": {},
   "outputs": [],
   "source": [
    "driver = webdriver.Chrome(service = serv, options = opciones)"
   ]
  },
  {
   "cell_type": "code",
   "execution_count": 209,
   "id": "71d960cb",
   "metadata": {},
   "outputs": [],
   "source": [
    "def list_esg_symbol_scrape(list):\n",
    "    for s in list:\n",
    "        driver.get(f'https://finance.yahoo.com/quote/{s}/sustainability')\n",
    "        time.sleep(5)\n",
    "        driver.execute_script(\"window.stop();\")\n",
    "        table = driver.find_element(By.ID, 'Main')\n",
    "        html = table.get_attribute('outerHTML')\n",
    "        soup = BeautifulSoup(html, 'html.parser')\n",
    "        try:\n",
    "            scores = soup.find_all('div', class_='D(ib) Fz(23px) smartphone_Fz(22px) Fw(600)')\n",
    "            environment.append(scores[0].text)\n",
    "            social.append(scores[1].text)\n",
    "            governance.append(scores[2].text)\n",
    "            symb.append(s)\n",
    "        except:\n",
    "            symb.append(s)\n",
    "            environment.append('NA')\n",
    "            social.append('NA')\n",
    "            governance.append('NA')"
   ]
  },
  {
   "cell_type": "code",
   "execution_count": 159,
   "id": "fa4cd1f8",
   "metadata": {},
   "outputs": [],
   "source": [
    "symb = []\n",
    "environment = []\n",
    "social = []\n",
    "governance = []"
   ]
  },
  {
   "cell_type": "code",
   "execution_count": null,
   "id": "bc90963e",
   "metadata": {},
   "outputs": [],
   "source": [
    "list_esg_symbol_scrape(eu_companies['Symbol'])"
   ]
  },
  {
   "cell_type": "code",
   "execution_count": 197,
   "id": "45794324",
   "metadata": {},
   "outputs": [
    {
     "data": {
      "text/plain": [
       "(99, 99, 99, 99)"
      ]
     },
     "execution_count": 197,
     "metadata": {},
     "output_type": "execute_result"
    }
   ],
   "source": [
    "len(symb), len(environment), len(social), len(governance)"
   ]
  },
  {
   "cell_type": "code",
   "execution_count": 199,
   "id": "a3a6da66",
   "metadata": {},
   "outputs": [
    {
     "data": {
      "text/plain": [
       "'ICLR'"
      ]
     },
     "execution_count": 199,
     "metadata": {},
     "output_type": "execute_result"
    }
   ],
   "source": [
    "symbols[-1]"
   ]
  },
  {
   "cell_type": "code",
   "execution_count": 200,
   "id": "9e8a9a8b",
   "metadata": {},
   "outputs": [],
   "source": [
    "additional_df = pd.DataFrame()\n",
    "additional_df['Symbol'] = symb\n",
    "additional_df['Environmental score'] = environment\n",
    "additional_df['Social score'] = social\n",
    "additional_df['Governance score'] = governance"
   ]
  },
  {
   "cell_type": "code",
   "execution_count": 201,
   "id": "496060eb",
   "metadata": {},
   "outputs": [
    {
     "data": {
      "text/html": [
       "<div>\n",
       "<style scoped>\n",
       "    .dataframe tbody tr th:only-of-type {\n",
       "        vertical-align: middle;\n",
       "    }\n",
       "\n",
       "    .dataframe tbody tr th {\n",
       "        vertical-align: top;\n",
       "    }\n",
       "\n",
       "    .dataframe thead th {\n",
       "        text-align: right;\n",
       "    }\n",
       "</style>\n",
       "<table border=\"1\" class=\"dataframe\">\n",
       "  <thead>\n",
       "    <tr style=\"text-align: right;\">\n",
       "      <th></th>\n",
       "      <th>Symbol</th>\n",
       "      <th>Environmental score</th>\n",
       "      <th>Social score</th>\n",
       "      <th>Governance score</th>\n",
       "    </tr>\n",
       "  </thead>\n",
       "  <tbody>\n",
       "    <tr>\n",
       "      <th>0</th>\n",
       "      <td>NVO</td>\n",
       "      <td>NA</td>\n",
       "      <td>NA</td>\n",
       "      <td>NA</td>\n",
       "    </tr>\n",
       "    <tr>\n",
       "      <th>1</th>\n",
       "      <td>MC.PA</td>\n",
       "      <td>0.8</td>\n",
       "      <td>5.7</td>\n",
       "      <td>5.6</td>\n",
       "    </tr>\n",
       "    <tr>\n",
       "      <th>2</th>\n",
       "      <td>ASML</td>\n",
       "      <td>NA</td>\n",
       "      <td>NA</td>\n",
       "      <td>NA</td>\n",
       "    </tr>\n",
       "    <tr>\n",
       "      <th>3</th>\n",
       "      <td>RMS.PA</td>\n",
       "      <td>0.9</td>\n",
       "      <td>3.7</td>\n",
       "      <td>4.8</td>\n",
       "    </tr>\n",
       "    <tr>\n",
       "      <th>4</th>\n",
       "      <td>OR.PA</td>\n",
       "      <td>4.4</td>\n",
       "      <td>7.2</td>\n",
       "      <td>7.2</td>\n",
       "    </tr>\n",
       "    <tr>\n",
       "      <th>...</th>\n",
       "      <td>...</td>\n",
       "      <td>...</td>\n",
       "      <td>...</td>\n",
       "      <td>...</td>\n",
       "    </tr>\n",
       "    <tr>\n",
       "      <th>94</th>\n",
       "      <td>FER.MC</td>\n",
       "      <td>7.8</td>\n",
       "      <td>11.4</td>\n",
       "      <td>7.1</td>\n",
       "    </tr>\n",
       "    <tr>\n",
       "      <th>95</th>\n",
       "      <td>NZYM.VI</td>\n",
       "      <td>5.3</td>\n",
       "      <td>5.4</td>\n",
       "      <td>5.6</td>\n",
       "    </tr>\n",
       "    <tr>\n",
       "      <th>96</th>\n",
       "      <td>DB</td>\n",
       "      <td>NA</td>\n",
       "      <td>NA</td>\n",
       "      <td>NA</td>\n",
       "    </tr>\n",
       "    <tr>\n",
       "      <th>97</th>\n",
       "      <td>BAYN.DE</td>\n",
       "      <td>2.8</td>\n",
       "      <td>17.9</td>\n",
       "      <td>6.7</td>\n",
       "    </tr>\n",
       "    <tr>\n",
       "      <th>98</th>\n",
       "      <td>ICLR</td>\n",
       "      <td>NA</td>\n",
       "      <td>NA</td>\n",
       "      <td>NA</td>\n",
       "    </tr>\n",
       "  </tbody>\n",
       "</table>\n",
       "<p>99 rows × 4 columns</p>\n",
       "</div>"
      ],
      "text/plain": [
       "     Symbol Environmental score Social score Governance score\n",
       "0       NVO                  NA           NA               NA\n",
       "1     MC.PA                 0.8          5.7              5.6\n",
       "2      ASML                  NA           NA               NA\n",
       "3    RMS.PA                 0.9          3.7              4.8\n",
       "4     OR.PA                 4.4          7.2              7.2\n",
       "..      ...                 ...          ...              ...\n",
       "94   FER.MC                 7.8         11.4              7.1\n",
       "95  NZYM.VI                 5.3          5.4              5.6\n",
       "96       DB                  NA           NA               NA\n",
       "97  BAYN.DE                 2.8         17.9              6.7\n",
       "98     ICLR                  NA           NA               NA\n",
       "\n",
       "[99 rows x 4 columns]"
      ]
     },
     "execution_count": 201,
     "metadata": {},
     "output_type": "execute_result"
    }
   ],
   "source": [
    "additional_df"
   ]
  },
  {
   "cell_type": "code",
   "execution_count": 202,
   "id": "4afd9d37",
   "metadata": {},
   "outputs": [],
   "source": [
    "esg_score_eu =pd.merge(eu_companies, additional_df, on='Symbol', how='left')"
   ]
  },
  {
   "cell_type": "code",
   "execution_count": 203,
   "id": "9e601241",
   "metadata": {},
   "outputs": [
    {
     "data": {
      "text/html": [
       "<div>\n",
       "<style scoped>\n",
       "    .dataframe tbody tr th:only-of-type {\n",
       "        vertical-align: middle;\n",
       "    }\n",
       "\n",
       "    .dataframe tbody tr th {\n",
       "        vertical-align: top;\n",
       "    }\n",
       "\n",
       "    .dataframe thead th {\n",
       "        text-align: right;\n",
       "    }\n",
       "</style>\n",
       "<table border=\"1\" class=\"dataframe\">\n",
       "  <thead>\n",
       "    <tr style=\"text-align: right;\">\n",
       "      <th></th>\n",
       "      <th>Symbol</th>\n",
       "      <th>Company Name</th>\n",
       "      <th>Environmental score</th>\n",
       "      <th>Social score</th>\n",
       "      <th>Governance score</th>\n",
       "    </tr>\n",
       "  </thead>\n",
       "  <tbody>\n",
       "    <tr>\n",
       "      <th>0</th>\n",
       "      <td>NVO</td>\n",
       "      <td>Novo Nordisk</td>\n",
       "      <td>NA</td>\n",
       "      <td>NA</td>\n",
       "      <td>NA</td>\n",
       "    </tr>\n",
       "    <tr>\n",
       "      <th>1</th>\n",
       "      <td>MC.PA</td>\n",
       "      <td>LVMH</td>\n",
       "      <td>0.8</td>\n",
       "      <td>5.7</td>\n",
       "      <td>5.6</td>\n",
       "    </tr>\n",
       "    <tr>\n",
       "      <th>2</th>\n",
       "      <td>ASML</td>\n",
       "      <td>ASML</td>\n",
       "      <td>NA</td>\n",
       "      <td>NA</td>\n",
       "      <td>NA</td>\n",
       "    </tr>\n",
       "    <tr>\n",
       "      <th>3</th>\n",
       "      <td>RMS.PA</td>\n",
       "      <td>Hermès</td>\n",
       "      <td>0.9</td>\n",
       "      <td>3.7</td>\n",
       "      <td>4.8</td>\n",
       "    </tr>\n",
       "    <tr>\n",
       "      <th>4</th>\n",
       "      <td>OR.PA</td>\n",
       "      <td>L'Oréal</td>\n",
       "      <td>4.4</td>\n",
       "      <td>7.2</td>\n",
       "      <td>7.2</td>\n",
       "    </tr>\n",
       "    <tr>\n",
       "      <th>...</th>\n",
       "      <td>...</td>\n",
       "      <td>...</td>\n",
       "      <td>...</td>\n",
       "      <td>...</td>\n",
       "      <td>...</td>\n",
       "    </tr>\n",
       "    <tr>\n",
       "      <th>95</th>\n",
       "      <td>FER.MC</td>\n",
       "      <td>Ferrovial</td>\n",
       "      <td>7.8</td>\n",
       "      <td>11.4</td>\n",
       "      <td>7.1</td>\n",
       "    </tr>\n",
       "    <tr>\n",
       "      <th>96</th>\n",
       "      <td>NZYM.VI</td>\n",
       "      <td>Novozymes</td>\n",
       "      <td>5.3</td>\n",
       "      <td>5.4</td>\n",
       "      <td>5.6</td>\n",
       "    </tr>\n",
       "    <tr>\n",
       "      <th>97</th>\n",
       "      <td>DB</td>\n",
       "      <td>Deutsche Bank</td>\n",
       "      <td>NA</td>\n",
       "      <td>NA</td>\n",
       "      <td>NA</td>\n",
       "    </tr>\n",
       "    <tr>\n",
       "      <th>98</th>\n",
       "      <td>BAYN.DE</td>\n",
       "      <td>Bayer</td>\n",
       "      <td>2.8</td>\n",
       "      <td>17.9</td>\n",
       "      <td>6.7</td>\n",
       "    </tr>\n",
       "    <tr>\n",
       "      <th>99</th>\n",
       "      <td>ICLR</td>\n",
       "      <td>ICON plc</td>\n",
       "      <td>NA</td>\n",
       "      <td>NA</td>\n",
       "      <td>NA</td>\n",
       "    </tr>\n",
       "  </tbody>\n",
       "</table>\n",
       "<p>100 rows × 5 columns</p>\n",
       "</div>"
      ],
      "text/plain": [
       "     Symbol   Company Name Environmental score Social score Governance score\n",
       "0       NVO   Novo Nordisk                  NA           NA               NA\n",
       "1     MC.PA           LVMH                 0.8          5.7              5.6\n",
       "2      ASML           ASML                  NA           NA               NA\n",
       "3    RMS.PA         Hermès                 0.9          3.7              4.8\n",
       "4     OR.PA        L'Oréal                 4.4          7.2              7.2\n",
       "..      ...            ...                 ...          ...              ...\n",
       "95   FER.MC      Ferrovial                 7.8         11.4              7.1\n",
       "96  NZYM.VI      Novozymes                 5.3          5.4              5.6\n",
       "97       DB  Deutsche Bank                  NA           NA               NA\n",
       "98  BAYN.DE          Bayer                 2.8         17.9              6.7\n",
       "99     ICLR       ICON plc                  NA           NA               NA\n",
       "\n",
       "[100 rows x 5 columns]"
      ]
     },
     "execution_count": 203,
     "metadata": {},
     "output_type": "execute_result"
    }
   ],
   "source": [
    "esg_score_eu"
   ]
  },
  {
   "cell_type": "code",
   "execution_count": 211,
   "id": "1af73816",
   "metadata": {},
   "outputs": [],
   "source": [
    "symb = []\n",
    "environment = []\n",
    "social = []\n",
    "governance = []"
   ]
  },
  {
   "cell_type": "code",
   "execution_count": 217,
   "id": "801c03c3",
   "metadata": {},
   "outputs": [],
   "source": [
    "list_esg_symbol_scrape(us_companies['Symbol'])"
   ]
  },
  {
   "cell_type": "code",
   "execution_count": 227,
   "id": "43d62694",
   "metadata": {},
   "outputs": [],
   "source": [
    "additional_df_us = pd.DataFrame()\n",
    "additional_df_us['Symbol'] = symb\n",
    "additional_df_us['Environmental score'] = environment\n",
    "additional_df_us['Social score'] = social\n",
    "additional_df_us['Governance score'] = governance"
   ]
  },
  {
   "cell_type": "code",
   "execution_count": 219,
   "id": "ca8cd583",
   "metadata": {},
   "outputs": [],
   "source": [
    "esg_score_us =pd.merge(us_companies, additional_df_us, on='Symbol', how='left')"
   ]
  },
  {
   "cell_type": "code",
   "execution_count": 223,
   "id": "348d15c6",
   "metadata": {},
   "outputs": [],
   "source": [
    "esg_score_eu = pd.read_excel('data/working data/esg_score.xlsx')"
   ]
  },
  {
   "cell_type": "code",
   "execution_count": 229,
   "id": "d869f3d0",
   "metadata": {},
   "outputs": [],
   "source": [
    "esg_score_us.rename(columns ={'Symbol':'Symbols'}, inplace = True)"
   ]
  },
  {
   "cell_type": "code",
   "execution_count": 230,
   "id": "8a4becae",
   "metadata": {
    "scrolled": true
   },
   "outputs": [],
   "source": [
    "esg_score = pd.concat([esg_score_eu,esg_score_us], ignore_index = True)"
   ]
  },
  {
   "cell_type": "code",
   "execution_count": 231,
   "id": "d95cc4d5",
   "metadata": {},
   "outputs": [
    {
     "data": {
      "text/html": [
       "<div>\n",
       "<style scoped>\n",
       "    .dataframe tbody tr th:only-of-type {\n",
       "        vertical-align: middle;\n",
       "    }\n",
       "\n",
       "    .dataframe tbody tr th {\n",
       "        vertical-align: top;\n",
       "    }\n",
       "\n",
       "    .dataframe thead th {\n",
       "        text-align: right;\n",
       "    }\n",
       "</style>\n",
       "<table border=\"1\" class=\"dataframe\">\n",
       "  <thead>\n",
       "    <tr style=\"text-align: right;\">\n",
       "      <th></th>\n",
       "      <th>Symbols</th>\n",
       "      <th>Company Name</th>\n",
       "      <th>Environmental score</th>\n",
       "      <th>Social score</th>\n",
       "      <th>Governance score</th>\n",
       "    </tr>\n",
       "  </thead>\n",
       "  <tbody>\n",
       "    <tr>\n",
       "      <th>0</th>\n",
       "      <td>NVO</td>\n",
       "      <td>Novo Nordisk</td>\n",
       "      <td>NaN</td>\n",
       "      <td>NaN</td>\n",
       "      <td>NaN</td>\n",
       "    </tr>\n",
       "    <tr>\n",
       "      <th>1</th>\n",
       "      <td>MC.PA</td>\n",
       "      <td>LVMH Moët Hennessy Louis Vuitton SE</td>\n",
       "      <td>0.8</td>\n",
       "      <td>5.7</td>\n",
       "      <td>5.6</td>\n",
       "    </tr>\n",
       "    <tr>\n",
       "      <th>2</th>\n",
       "      <td>ASML</td>\n",
       "      <td>ASML Holding N.V.</td>\n",
       "      <td>3.3</td>\n",
       "      <td>2.0</td>\n",
       "      <td>4.3</td>\n",
       "    </tr>\n",
       "    <tr>\n",
       "      <th>3</th>\n",
       "      <td>RMS.PA</td>\n",
       "      <td>Hermès International SCA</td>\n",
       "      <td>0.9</td>\n",
       "      <td>3.7</td>\n",
       "      <td>4.8</td>\n",
       "    </tr>\n",
       "    <tr>\n",
       "      <th>4</th>\n",
       "      <td>OR.PA</td>\n",
       "      <td>L'Oréal SA</td>\n",
       "      <td>4.4</td>\n",
       "      <td>7.2</td>\n",
       "      <td>7.2</td>\n",
       "    </tr>\n",
       "    <tr>\n",
       "      <th>...</th>\n",
       "      <td>...</td>\n",
       "      <td>...</td>\n",
       "      <td>...</td>\n",
       "      <td>...</td>\n",
       "      <td>...</td>\n",
       "    </tr>\n",
       "    <tr>\n",
       "      <th>610</th>\n",
       "      <td>ILMN</td>\n",
       "      <td>Illumina, Inc.</td>\n",
       "      <td>0.1</td>\n",
       "      <td>11.6</td>\n",
       "      <td>6.9</td>\n",
       "    </tr>\n",
       "    <tr>\n",
       "      <th>611</th>\n",
       "      <td>INVH</td>\n",
       "      <td>Invitation Homes Inc.</td>\n",
       "      <td>NA</td>\n",
       "      <td>NA</td>\n",
       "      <td>NA</td>\n",
       "    </tr>\n",
       "    <tr>\n",
       "      <th>612</th>\n",
       "      <td>TECK</td>\n",
       "      <td>Teck Resources Limited</td>\n",
       "      <td>10.1</td>\n",
       "      <td>6.7</td>\n",
       "      <td>3.6</td>\n",
       "    </tr>\n",
       "    <tr>\n",
       "      <th>613</th>\n",
       "      <td>CCL</td>\n",
       "      <td>Carnival Corporation &amp; plc</td>\n",
       "      <td>9.4</td>\n",
       "      <td>10.1</td>\n",
       "      <td>5.0</td>\n",
       "    </tr>\n",
       "    <tr>\n",
       "      <th>614</th>\n",
       "      <td>NTAP</td>\n",
       "      <td>NetApp, Inc.</td>\n",
       "      <td>2.2</td>\n",
       "      <td>7.7</td>\n",
       "      <td>5.5</td>\n",
       "    </tr>\n",
       "  </tbody>\n",
       "</table>\n",
       "<p>615 rows × 5 columns</p>\n",
       "</div>"
      ],
      "text/plain": [
       "    Symbols                         Company Name Environmental score  \\\n",
       "0       NVO                         Novo Nordisk                 NaN   \n",
       "1     MC.PA  LVMH Moët Hennessy Louis Vuitton SE                 0.8   \n",
       "2      ASML                    ASML Holding N.V.                 3.3   \n",
       "3    RMS.PA             Hermès International SCA                 0.9   \n",
       "4     OR.PA                           L'Oréal SA                 4.4   \n",
       "..      ...                                  ...                 ...   \n",
       "610    ILMN                       Illumina, Inc.                 0.1   \n",
       "611    INVH                Invitation Homes Inc.                  NA   \n",
       "612    TECK               Teck Resources Limited                10.1   \n",
       "613     CCL           Carnival Corporation & plc                 9.4   \n",
       "614    NTAP                         NetApp, Inc.                 2.2   \n",
       "\n",
       "    Social score Governance score  \n",
       "0            NaN              NaN  \n",
       "1            5.7              5.6  \n",
       "2            2.0              4.3  \n",
       "3            3.7              4.8  \n",
       "4            7.2              7.2  \n",
       "..           ...              ...  \n",
       "610         11.6              6.9  \n",
       "611           NA               NA  \n",
       "612          6.7              3.6  \n",
       "613         10.1              5.0  \n",
       "614          7.7              5.5  \n",
       "\n",
       "[615 rows x 5 columns]"
      ]
     },
     "execution_count": 231,
     "metadata": {},
     "output_type": "execute_result"
    }
   ],
   "source": [
    "esg_score"
   ]
  },
  {
   "cell_type": "code",
   "execution_count": 232,
   "id": "a2858373",
   "metadata": {},
   "outputs": [],
   "source": [
    "#esg_score.to_excel('esg_score.xlsx', index = False)"
   ]
  },
  {
   "cell_type": "code",
   "execution_count": null,
   "id": "96ac7c36",
   "metadata": {},
   "outputs": [],
   "source": []
  }
 ],
 "metadata": {
  "kernelspec": {
   "display_name": "Python 3 (ipykernel)",
   "language": "python",
   "name": "python3"
  },
  "language_info": {
   "codemirror_mode": {
    "name": "ipython",
    "version": 3
   },
   "file_extension": ".py",
   "mimetype": "text/x-python",
   "name": "python",
   "nbconvert_exporter": "python",
   "pygments_lexer": "ipython3",
   "version": "3.11.5"
  }
 },
 "nbformat": 4,
 "nbformat_minor": 5
}
