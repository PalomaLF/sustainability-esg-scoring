{
 "cells": [
  {
   "cell_type": "code",
   "execution_count": 8,
   "id": "4c8958e8",
   "metadata": {},
   "outputs": [],
   "source": [
    "import pandas as pd\n",
    "import numpy as np\n",
    "import re\n",
    "from fuzzywuzzy import process\n",
    "from tqdm import tqdm"
   ]
  },
  {
   "cell_type": "code",
   "execution_count": 3,
   "id": "6b5d02af",
   "metadata": {},
   "outputs": [],
   "source": [
    "esg_score_data = pd.read_excel('data/working data/esg_score.xlsx')"
   ]
  },
  {
   "cell_type": "code",
   "execution_count": 5,
   "id": "35085a33",
   "metadata": {},
   "outputs": [],
   "source": [
    "companies = pd.read_csv('data/final tables sql/companies_df.csv')"
   ]
  },
  {
   "cell_type": "code",
   "execution_count": 21,
   "id": "071708cb",
   "metadata": {},
   "outputs": [
    {
     "data": {
      "text/html": [
       "<div>\n",
       "<style scoped>\n",
       "    .dataframe tbody tr th:only-of-type {\n",
       "        vertical-align: middle;\n",
       "    }\n",
       "\n",
       "    .dataframe tbody tr th {\n",
       "        vertical-align: top;\n",
       "    }\n",
       "\n",
       "    .dataframe thead th {\n",
       "        text-align: right;\n",
       "    }\n",
       "</style>\n",
       "<table border=\"1\" class=\"dataframe\">\n",
       "  <thead>\n",
       "    <tr style=\"text-align: right;\">\n",
       "      <th></th>\n",
       "      <th>ISO (3)</th>\n",
       "      <th>Companies</th>\n",
       "      <th>Symbols</th>\n",
       "      <th>Ratings</th>\n",
       "      <th>Risk</th>\n",
       "      <th>Industry</th>\n",
       "    </tr>\n",
       "  </thead>\n",
       "  <tbody>\n",
       "    <tr>\n",
       "      <th>0</th>\n",
       "      <td>USA</td>\n",
       "      <td>1-800-FLOWERS.COM, Inc.</td>\n",
       "      <td>NAS:FLWS</td>\n",
       "      <td>23.6</td>\n",
       "      <td>Medium ESG Risk</td>\n",
       "      <td>Retailing</td>\n",
       "    </tr>\n",
       "    <tr>\n",
       "      <th>1</th>\n",
       "      <td>DEU</td>\n",
       "      <td>1&amp;1 AG</td>\n",
       "      <td>ETR:1U1</td>\n",
       "      <td>23.1</td>\n",
       "      <td>Medium ESG Risk</td>\n",
       "      <td>Telecommunication Services</td>\n",
       "    </tr>\n",
       "    <tr>\n",
       "      <th>2</th>\n",
       "      <td>USA</td>\n",
       "      <td>10X Genomics, Inc.</td>\n",
       "      <td>NAS:TXG</td>\n",
       "      <td>22.6</td>\n",
       "      <td>Medium ESG Risk</td>\n",
       "      <td>Pharmaceuticals</td>\n",
       "    </tr>\n",
       "    <tr>\n",
       "      <th>3</th>\n",
       "      <td>POL</td>\n",
       "      <td>11 Bit Studios SA</td>\n",
       "      <td>WAR:11B</td>\n",
       "      <td>16.3</td>\n",
       "      <td>Low ESG Risk</td>\n",
       "      <td>Software &amp; Services</td>\n",
       "    </tr>\n",
       "    <tr>\n",
       "      <th>4</th>\n",
       "      <td>USA</td>\n",
       "      <td>1st Source Corp.</td>\n",
       "      <td>NAS:SRCE</td>\n",
       "      <td>29.1</td>\n",
       "      <td>Medium ESG Risk</td>\n",
       "      <td>Banks</td>\n",
       "    </tr>\n",
       "    <tr>\n",
       "      <th>...</th>\n",
       "      <td>...</td>\n",
       "      <td>...</td>\n",
       "      <td>...</td>\n",
       "      <td>...</td>\n",
       "      <td>...</td>\n",
       "      <td>...</td>\n",
       "    </tr>\n",
       "    <tr>\n",
       "      <th>1229</th>\n",
       "      <td>IND</td>\n",
       "      <td>J.K. Cement Ltd.</td>\n",
       "      <td>BOM:532644</td>\n",
       "      <td>29.1</td>\n",
       "      <td>Medium ESG Risk</td>\n",
       "      <td>Construction Materials</td>\n",
       "    </tr>\n",
       "    <tr>\n",
       "      <th>1230</th>\n",
       "      <td>ESP</td>\n",
       "      <td>Abengoa SA</td>\n",
       "      <td>-</td>\n",
       "      <td>33.4</td>\n",
       "      <td>High ESG Risk</td>\n",
       "      <td>Construction &amp; Engineering</td>\n",
       "    </tr>\n",
       "    <tr>\n",
       "      <th>1231</th>\n",
       "      <td>IND</td>\n",
       "      <td>Ipca Laboratories Ltd.</td>\n",
       "      <td>BOM:524494</td>\n",
       "      <td>30.8</td>\n",
       "      <td>High ESG Risk</td>\n",
       "      <td>Pharmaceuticals</td>\n",
       "    </tr>\n",
       "    <tr>\n",
       "      <th>1232</th>\n",
       "      <td>CAN</td>\n",
       "      <td>Cameco Corp.</td>\n",
       "      <td>TSE:CCO</td>\n",
       "      <td>31.6</td>\n",
       "      <td>High ESG Risk</td>\n",
       "      <td>Diversified Metals</td>\n",
       "    </tr>\n",
       "    <tr>\n",
       "      <th>1233</th>\n",
       "      <td>CHN</td>\n",
       "      <td>Shanghai Friendess Electronic Technology Corp....</td>\n",
       "      <td>SHG:688188</td>\n",
       "      <td>17.7</td>\n",
       "      <td>Low ESG Risk</td>\n",
       "      <td>Technology Hardware</td>\n",
       "    </tr>\n",
       "  </tbody>\n",
       "</table>\n",
       "<p>1234 rows × 6 columns</p>\n",
       "</div>"
      ],
      "text/plain": [
       "     ISO (3)                                          Companies     Symbols  \\\n",
       "0        USA                            1-800-FLOWERS.COM, Inc.    NAS:FLWS   \n",
       "1        DEU                                             1&1 AG     ETR:1U1   \n",
       "2        USA                                 10X Genomics, Inc.     NAS:TXG   \n",
       "3        POL                                  11 Bit Studios SA     WAR:11B   \n",
       "4        USA                                   1st Source Corp.    NAS:SRCE   \n",
       "...      ...                                                ...         ...   \n",
       "1229     IND                                   J.K. Cement Ltd.  BOM:532644   \n",
       "1230     ESP                                         Abengoa SA           -   \n",
       "1231     IND                             Ipca Laboratories Ltd.  BOM:524494   \n",
       "1232     CAN                                       Cameco Corp.     TSE:CCO   \n",
       "1233     CHN  Shanghai Friendess Electronic Technology Corp....  SHG:688188   \n",
       "\n",
       "      Ratings             Risk                    Industry  \n",
       "0        23.6  Medium ESG Risk                   Retailing  \n",
       "1        23.1  Medium ESG Risk  Telecommunication Services  \n",
       "2        22.6  Medium ESG Risk             Pharmaceuticals  \n",
       "3        16.3     Low ESG Risk         Software & Services  \n",
       "4        29.1  Medium ESG Risk                       Banks  \n",
       "...       ...              ...                         ...  \n",
       "1229     29.1  Medium ESG Risk      Construction Materials  \n",
       "1230     33.4    High ESG Risk  Construction & Engineering  \n",
       "1231     30.8    High ESG Risk             Pharmaceuticals  \n",
       "1232     31.6    High ESG Risk          Diversified Metals  \n",
       "1233     17.7     Low ESG Risk         Technology Hardware  \n",
       "\n",
       "[1234 rows x 6 columns]"
      ]
     },
     "execution_count": 21,
     "metadata": {},
     "output_type": "execute_result"
    }
   ],
   "source": [
    "companies"
   ]
  },
  {
   "cell_type": "code",
   "execution_count": 22,
   "id": "fa75d204",
   "metadata": {},
   "outputs": [],
   "source": [
    "original = companies[companies['ISO (3)'] != 'USA']['Companies']\n",
    "change = esg_score_data['Company Name']"
   ]
  },
  {
   "cell_type": "code",
   "execution_count": 31,
   "id": "c4d37ab4",
   "metadata": {},
   "outputs": [
    {
     "name": "stderr",
     "output_type": "stream",
     "text": [
      "100%|█████████████████████████████████████████| 100/100 [00:09<00:00, 10.34it/s]\n"
     ]
    }
   ],
   "source": [
    "threshold = 90\n",
    " \n",
    "\n",
    "replacements = {}\n",
    "for c in tqdm(change):\n",
    "    match = process.extractOne(c, original)\n",
    "    if match[1] >= threshold:\n",
    "        if c not in replacements:\n",
    "            replacements[c] = match[0]"
   ]
  },
  {
   "cell_type": "code",
   "execution_count": 32,
   "id": "d99635e0",
   "metadata": {},
   "outputs": [
    {
     "data": {
      "text/plain": [
       "{'Accenture': 'Accenture Plc',\n",
       " 'SAP': 'SAP SE',\n",
       " 'Siemens': 'Siemens Gamesa Renewable Energy SA',\n",
       " 'Airbus': 'Airbus SE',\n",
       " 'Anheuser-Busch Inbev': 'Anheuser-Busch InBev SA/NV',\n",
       " 'Allianz': 'Allianz SE',\n",
       " 'Porsche': 'Porsche AG',\n",
       " 'Iberdrola': 'Iberdrola SA',\n",
       " 'Kering\\n': 'Argenta Bank en Verzekeringsgroep NV',\n",
       " 'ENI': 'WALLENIUS WILHELMSEN ASA',\n",
       " 'ING\\n': '888 Holdings Plc',\n",
       " 'Adidas': 'adidas AG'}"
      ]
     },
     "execution_count": 32,
     "metadata": {},
     "output_type": "execute_result"
    }
   ],
   "source": [
    "replacements"
   ]
  },
  {
   "cell_type": "code",
   "execution_count": null,
   "id": "348f56c9",
   "metadata": {},
   "outputs": [],
   "source": []
  }
 ],
 "metadata": {
  "kernelspec": {
   "display_name": "Python 3 (ipykernel)",
   "language": "python",
   "name": "python3"
  },
  "language_info": {
   "codemirror_mode": {
    "name": "ipython",
    "version": 3
   },
   "file_extension": ".py",
   "mimetype": "text/x-python",
   "name": "python",
   "nbconvert_exporter": "python",
   "pygments_lexer": "ipython3",
   "version": "3.11.5"
  }
 },
 "nbformat": 4,
 "nbformat_minor": 5
}
